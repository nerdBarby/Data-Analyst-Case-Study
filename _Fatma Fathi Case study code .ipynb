{
 "cells": [
  {
   "cell_type": "markdown",
   "id": "26d4cdfc",
   "metadata": {},
   "source": [
    "Liberary Calling \n"
   ]
  },
  {
   "cell_type": "code",
   "execution_count": 25,
   "id": "a4a4578f",
   "metadata": {},
   "outputs": [],
   "source": [
    "import pandas as pd"
   ]
  },
  {
   "cell_type": "markdown",
   "id": "26032006",
   "metadata": {},
   "source": [
    "Importing Dataset"
   ]
  },
  {
   "cell_type": "code",
   "execution_count": 26,
   "id": "f63c2ca6",
   "metadata": {},
   "outputs": [],
   "source": [
    "data= pd.read_excel(\"Sample_data.xlsx\")"
   ]
  },
  {
   "cell_type": "markdown",
   "id": "35607a19",
   "metadata": {},
   "source": [
    "Exploring "
   ]
  },
  {
   "cell_type": "code",
   "execution_count": 31,
   "id": "94e5887e",
   "metadata": {
    "scrolled": true
   },
   "outputs": [
    {
     "data": {
      "text/html": [
       "<div>\n",
       "<style scoped>\n",
       "    .dataframe tbody tr th:only-of-type {\n",
       "        vertical-align: middle;\n",
       "    }\n",
       "\n",
       "    .dataframe tbody tr th {\n",
       "        vertical-align: top;\n",
       "    }\n",
       "\n",
       "    .dataframe thead th {\n",
       "        text-align: right;\n",
       "    }\n",
       "</style>\n",
       "<table border=\"1\" class=\"dataframe\">\n",
       "  <thead>\n",
       "    <tr style=\"text-align: right;\">\n",
       "      <th></th>\n",
       "      <th>OrderNumber</th>\n",
       "      <th>MerchantId</th>\n",
       "      <th>Type</th>\n",
       "      <th>CityName</th>\n",
       "      <th>Status</th>\n",
       "      <th>Revenue</th>\n",
       "      <th>CreationSource</th>\n",
       "      <th>FulfillmentOrderFlag</th>\n",
       "      <th>NextDayFees</th>\n",
       "      <th>createdAt</th>\n",
       "      <th>AssignedHub</th>\n",
       "      <th>DriverId</th>\n",
       "      <th>RouteId</th>\n",
       "    </tr>\n",
       "  </thead>\n",
       "  <tbody>\n",
       "    <tr>\n",
       "      <th>0</th>\n",
       "      <td>d3e4560ebba417cb108d0df903802645</td>\n",
       "      <td>f8221e71a4844d85b19d01ec988b0401</td>\n",
       "      <td>Forward</td>\n",
       "      <td>Dakahlia</td>\n",
       "      <td>Success</td>\n",
       "      <td>29.0</td>\n",
       "      <td>BUSINESS_DASHBOARD</td>\n",
       "      <td>0.0</td>\n",
       "      <td>NaN</td>\n",
       "      <td>2022-10-28 16:52:14</td>\n",
       "      <td>Maadi Hub</td>\n",
       "      <td>7ee4a40d001245959968ed9cc8b987a1</td>\n",
       "      <td>38dad08b70ff4cdf213f243ae1c3651d</td>\n",
       "    </tr>\n",
       "    <tr>\n",
       "      <th>1</th>\n",
       "      <td>5a4473ca7e477eb67829c65f7009c688</td>\n",
       "      <td>14df7468e0773be85f1910cf8c23bb84</td>\n",
       "      <td>Forward</td>\n",
       "      <td>Giza</td>\n",
       "      <td>Success</td>\n",
       "      <td>29.0</td>\n",
       "      <td>NEW_MASS_UPLOAD</td>\n",
       "      <td>0.0</td>\n",
       "      <td>NaN</td>\n",
       "      <td>2022-12-15 11:48:44</td>\n",
       "      <td>Maadi Hub</td>\n",
       "      <td>5099c36d1f8ea2ef7a8a09fb476065f8</td>\n",
       "      <td>0a4a39afe01c58b4776f596b864c9114</td>\n",
       "    </tr>\n",
       "    <tr>\n",
       "      <th>2</th>\n",
       "      <td>cba9bfe3ce54740e56aef7b21c599f3e</td>\n",
       "      <td>582769bd5c659aeb20b06b60a0670e01</td>\n",
       "      <td>RTO</td>\n",
       "      <td>Cairo</td>\n",
       "      <td>Failed</td>\n",
       "      <td>17.0</td>\n",
       "      <td>API</td>\n",
       "      <td>0.0</td>\n",
       "      <td>NaN</td>\n",
       "      <td>2022-11-01 10:10:24</td>\n",
       "      <td>Domiatta Hub</td>\n",
       "      <td>86185ff4f4502e4221df4e97b0cb2631</td>\n",
       "      <td>7b64bf60b9f5ea078bf8ab692c9fd99f</td>\n",
       "    </tr>\n",
       "    <tr>\n",
       "      <th>3</th>\n",
       "      <td>ad060e01dfb9667c7c0f25423be3ac69</td>\n",
       "      <td>18c64835ba462b08d39d7ee1c4737be2</td>\n",
       "      <td>Forward</td>\n",
       "      <td>Cairo</td>\n",
       "      <td>Success</td>\n",
       "      <td>24.0</td>\n",
       "      <td>API</td>\n",
       "      <td>NaN</td>\n",
       "      <td>NaN</td>\n",
       "      <td>2023-01-09 11:30:29</td>\n",
       "      <td>Heliopolis Hub</td>\n",
       "      <td>317cb96a3dab1faf47a317e7edd6efc0</td>\n",
       "      <td>ffe2d971cc503cf5f077f97b92bccfaf</td>\n",
       "    </tr>\n",
       "    <tr>\n",
       "      <th>4</th>\n",
       "      <td>aad916f240a7d5096878a97b5f9f0577</td>\n",
       "      <td>0d88a85d07a9f35778a14da3ba149cab</td>\n",
       "      <td>Forward</td>\n",
       "      <td>Giza</td>\n",
       "      <td>Success</td>\n",
       "      <td>90.0</td>\n",
       "      <td>BUSINESS_DASHBOARD</td>\n",
       "      <td>0.0</td>\n",
       "      <td>NaN</td>\n",
       "      <td>2022-11-12 13:07:04</td>\n",
       "      <td>Mokattam Hub</td>\n",
       "      <td>ef81d0d289fcfa06cc45a2cad0ea0938</td>\n",
       "      <td>a38bea5815acbd17f0fecf625494a521</td>\n",
       "    </tr>\n",
       "  </tbody>\n",
       "</table>\n",
       "</div>"
      ],
      "text/plain": [
       "                        OrderNumber                        MerchantId  \\\n",
       "0  d3e4560ebba417cb108d0df903802645  f8221e71a4844d85b19d01ec988b0401   \n",
       "1  5a4473ca7e477eb67829c65f7009c688  14df7468e0773be85f1910cf8c23bb84   \n",
       "2  cba9bfe3ce54740e56aef7b21c599f3e  582769bd5c659aeb20b06b60a0670e01   \n",
       "3  ad060e01dfb9667c7c0f25423be3ac69  18c64835ba462b08d39d7ee1c4737be2   \n",
       "4  aad916f240a7d5096878a97b5f9f0577  0d88a85d07a9f35778a14da3ba149cab   \n",
       "\n",
       "      Type  CityName   Status  Revenue      CreationSource  \\\n",
       "0  Forward  Dakahlia  Success     29.0  BUSINESS_DASHBOARD   \n",
       "1  Forward      Giza  Success     29.0     NEW_MASS_UPLOAD   \n",
       "2      RTO     Cairo   Failed     17.0                 API   \n",
       "3  Forward     Cairo  Success     24.0                 API   \n",
       "4  Forward      Giza  Success     90.0  BUSINESS_DASHBOARD   \n",
       "\n",
       "   FulfillmentOrderFlag  NextDayFees           createdAt     AssignedHub  \\\n",
       "0                   0.0          NaN 2022-10-28 16:52:14       Maadi Hub   \n",
       "1                   0.0          NaN 2022-12-15 11:48:44       Maadi Hub   \n",
       "2                   0.0          NaN 2022-11-01 10:10:24    Domiatta Hub   \n",
       "3                   NaN          NaN 2023-01-09 11:30:29  Heliopolis Hub   \n",
       "4                   0.0          NaN 2022-11-12 13:07:04    Mokattam Hub   \n",
       "\n",
       "                           DriverId                           RouteId  \n",
       "0  7ee4a40d001245959968ed9cc8b987a1  38dad08b70ff4cdf213f243ae1c3651d  \n",
       "1  5099c36d1f8ea2ef7a8a09fb476065f8  0a4a39afe01c58b4776f596b864c9114  \n",
       "2  86185ff4f4502e4221df4e97b0cb2631  7b64bf60b9f5ea078bf8ab692c9fd99f  \n",
       "3  317cb96a3dab1faf47a317e7edd6efc0  ffe2d971cc503cf5f077f97b92bccfaf  \n",
       "4  ef81d0d289fcfa06cc45a2cad0ea0938  a38bea5815acbd17f0fecf625494a521  "
      ]
     },
     "execution_count": 31,
     "metadata": {},
     "output_type": "execute_result"
    }
   ],
   "source": [
    "data.head()"
   ]
  },
  {
   "cell_type": "code",
   "execution_count": 32,
   "id": "fcb2fae6",
   "metadata": {
    "scrolled": true
   },
   "outputs": [
    {
     "name": "stdout",
     "output_type": "stream",
     "text": [
      "<class 'pandas.core.frame.DataFrame'>\n",
      "RangeIndex: 500000 entries, 0 to 499999\n",
      "Data columns (total 13 columns):\n",
      " #   Column                Non-Null Count   Dtype         \n",
      "---  ------                --------------   -----         \n",
      " 0   OrderNumber           500000 non-null  object        \n",
      " 1   MerchantId            500000 non-null  object        \n",
      " 2   Type                  500000 non-null  object        \n",
      " 3   CityName              500000 non-null  object        \n",
      " 4   Status                500000 non-null  object        \n",
      " 5   Revenue               500000 non-null  float64       \n",
      " 6   CreationSource        500000 non-null  object        \n",
      " 7   FulfillmentOrderFlag  377581 non-null  float64       \n",
      " 8   NextDayFees           114589 non-null  float64       \n",
      " 9   createdAt             500000 non-null  datetime64[ns]\n",
      " 10  AssignedHub           499734 non-null  object        \n",
      " 11  DriverId              478604 non-null  object        \n",
      " 12  RouteId               445517 non-null  object        \n",
      "dtypes: datetime64[ns](1), float64(3), object(9)\n",
      "memory usage: 49.6+ MB\n"
     ]
    }
   ],
   "source": [
    "data.info()"
   ]
  },
  {
   "cell_type": "code",
   "execution_count": 33,
   "id": "2b31b364",
   "metadata": {
    "scrolled": false
   },
   "outputs": [
    {
     "data": {
      "text/html": [
       "<div>\n",
       "<style scoped>\n",
       "    .dataframe tbody tr th:only-of-type {\n",
       "        vertical-align: middle;\n",
       "    }\n",
       "\n",
       "    .dataframe tbody tr th {\n",
       "        vertical-align: top;\n",
       "    }\n",
       "\n",
       "    .dataframe thead th {\n",
       "        text-align: right;\n",
       "    }\n",
       "</style>\n",
       "<table border=\"1\" class=\"dataframe\">\n",
       "  <thead>\n",
       "    <tr style=\"text-align: right;\">\n",
       "      <th></th>\n",
       "      <th>Revenue</th>\n",
       "      <th>FulfillmentOrderFlag</th>\n",
       "      <th>NextDayFees</th>\n",
       "      <th>createdAt</th>\n",
       "    </tr>\n",
       "  </thead>\n",
       "  <tbody>\n",
       "    <tr>\n",
       "      <th>count</th>\n",
       "      <td>500000.000000</td>\n",
       "      <td>377581.000000</td>\n",
       "      <td>114589.000000</td>\n",
       "      <td>500000</td>\n",
       "    </tr>\n",
       "    <tr>\n",
       "      <th>mean</th>\n",
       "      <td>32.358458</td>\n",
       "      <td>0.003560</td>\n",
       "      <td>4.067305</td>\n",
       "      <td>2022-12-01 12:05:46.211088128</td>\n",
       "    </tr>\n",
       "    <tr>\n",
       "      <th>min</th>\n",
       "      <td>0.000000</td>\n",
       "      <td>0.000000</td>\n",
       "      <td>0.000000</td>\n",
       "      <td>2022-10-01 00:01:07</td>\n",
       "    </tr>\n",
       "    <tr>\n",
       "      <th>25%</th>\n",
       "      <td>24.000000</td>\n",
       "      <td>0.000000</td>\n",
       "      <td>0.000000</td>\n",
       "      <td>2022-11-02 12:50:22.249999872</td>\n",
       "    </tr>\n",
       "    <tr>\n",
       "      <th>50%</th>\n",
       "      <td>30.000000</td>\n",
       "      <td>0.000000</td>\n",
       "      <td>5.000000</td>\n",
       "      <td>2022-11-30 01:01:34</td>\n",
       "    </tr>\n",
       "    <tr>\n",
       "      <th>75%</th>\n",
       "      <td>39.000000</td>\n",
       "      <td>0.000000</td>\n",
       "      <td>5.000000</td>\n",
       "      <td>2022-12-31 13:03:29</td>\n",
       "    </tr>\n",
       "    <tr>\n",
       "      <th>max</th>\n",
       "      <td>541.400024</td>\n",
       "      <td>1.000000</td>\n",
       "      <td>238.500000</td>\n",
       "      <td>2023-01-31 23:58:23</td>\n",
       "    </tr>\n",
       "    <tr>\n",
       "      <th>std</th>\n",
       "      <td>15.412783</td>\n",
       "      <td>0.059555</td>\n",
       "      <td>6.805413</td>\n",
       "      <td>NaN</td>\n",
       "    </tr>\n",
       "  </tbody>\n",
       "</table>\n",
       "</div>"
      ],
      "text/plain": [
       "             Revenue  FulfillmentOrderFlag    NextDayFees  \\\n",
       "count  500000.000000         377581.000000  114589.000000   \n",
       "mean       32.358458              0.003560       4.067305   \n",
       "min         0.000000              0.000000       0.000000   \n",
       "25%        24.000000              0.000000       0.000000   \n",
       "50%        30.000000              0.000000       5.000000   \n",
       "75%        39.000000              0.000000       5.000000   \n",
       "max       541.400024              1.000000     238.500000   \n",
       "std        15.412783              0.059555       6.805413   \n",
       "\n",
       "                           createdAt  \n",
       "count                         500000  \n",
       "mean   2022-12-01 12:05:46.211088128  \n",
       "min              2022-10-01 00:01:07  \n",
       "25%    2022-11-02 12:50:22.249999872  \n",
       "50%              2022-11-30 01:01:34  \n",
       "75%              2022-12-31 13:03:29  \n",
       "max              2023-01-31 23:58:23  \n",
       "std                              NaN  "
      ]
     },
     "execution_count": 33,
     "metadata": {},
     "output_type": "execute_result"
    }
   ],
   "source": [
    "data.describe()"
   ]
  },
  {
   "cell_type": "markdown",
   "id": "6680c207",
   "metadata": {},
   "source": [
    "Exploring unique identifiers "
   ]
  },
  {
   "cell_type": "code",
   "execution_count": 41,
   "id": "13f81da8",
   "metadata": {},
   "outputs": [
    {
     "name": "stdout",
     "output_type": "stream",
     "text": [
      "number of duplicate orders ids  are  0\n"
     ]
    }
   ],
   "source": [
    "ID_order= data[\"OrderNumber\"].duplicated().sum()\n",
    "print(\"number of duplicate orders ids  are \",ID_order)"
   ]
  },
  {
   "cell_type": "code",
   "execution_count": 40,
   "id": "6d3bcbed",
   "metadata": {
    "scrolled": true
   },
   "outputs": [
    {
     "name": "stdout",
     "output_type": "stream",
     "text": [
      "number of duplicates are  493937\n",
      "number of uniques are  6063\n"
     ]
    }
   ],
   "source": [
    "D= data[\"MerchantId\"].duplicated().sum()\n",
    "U= data[\"MerchantId\"].nunique()\n",
    "print(\"number of duplicates are \",D)\n",
    "print(\"number of uniques are \",U)"
   ]
  },
  {
   "cell_type": "markdown",
   "id": "cf13be88",
   "metadata": {},
   "source": [
    "Data cleaning"
   ]
  },
  {
   "cell_type": "markdown",
   "id": "1a740101",
   "metadata": {},
   "source": [
    "Changing FulfillmentOrderFlag datatype  from float to bool"
   ]
  },
  {
   "cell_type": "code",
   "execution_count": 14,
   "id": "e2628325",
   "metadata": {},
   "outputs": [],
   "source": [
    "data[\"FulfillmentOrderFlag\"] = data[\"FulfillmentOrderFlag\"].astype(bool)"
   ]
  },
  {
   "cell_type": "markdown",
   "id": "4fae261f",
   "metadata": {},
   "source": [
    "Filling Null values"
   ]
  },
  {
   "cell_type": "markdown",
   "id": "852ec9fa",
   "metadata": {},
   "source": [
    "according to Type column and Status column, we will fill the FulfillmentOrderFlag column"
   ]
  },
  {
   "cell_type": "code",
   "execution_count": 42,
   "id": "e93a131d",
   "metadata": {},
   "outputs": [],
   "source": [
    " condition = (data[\"Type\"] == \"Forward\") & (data[\"Status\"] == \"Success\")\n",
    "data.loc[condition, \"FulfillmentOrderFlag\"] = data.loc[condition, \"FulfillmentOrderFlag\"].fillna(data[\"FulfillmentOrderFlag\"].mode()[0])\n"
   ]
  },
  {
   "cell_type": "code",
   "execution_count": 43,
   "id": "9190529a",
   "metadata": {
    "scrolled": true
   },
   "outputs": [
    {
     "name": "stdout",
     "output_type": "stream",
     "text": [
      "<class 'pandas.core.frame.DataFrame'>\n",
      "RangeIndex: 500000 entries, 0 to 499999\n",
      "Data columns (total 13 columns):\n",
      " #   Column                Non-Null Count   Dtype         \n",
      "---  ------                --------------   -----         \n",
      " 0   OrderNumber           500000 non-null  object        \n",
      " 1   MerchantId            500000 non-null  object        \n",
      " 2   Type                  500000 non-null  object        \n",
      " 3   CityName              500000 non-null  object        \n",
      " 4   Status                500000 non-null  object        \n",
      " 5   Revenue               500000 non-null  float64       \n",
      " 6   CreationSource        500000 non-null  object        \n",
      " 7   FulfillmentOrderFlag  474381 non-null  float64       \n",
      " 8   NextDayFees           114589 non-null  float64       \n",
      " 9   createdAt             500000 non-null  datetime64[ns]\n",
      " 10  AssignedHub           499734 non-null  object        \n",
      " 11  DriverId              478604 non-null  object        \n",
      " 12  RouteId               445517 non-null  object        \n",
      "dtypes: datetime64[ns](1), float64(3), object(9)\n",
      "memory usage: 49.6+ MB\n"
     ]
    }
   ],
   "source": [
    "data.info()"
   ]
  },
  {
   "cell_type": "markdown",
   "id": "9e5b9b82",
   "metadata": {},
   "source": [
    "We will fill the rest of rows with the majorty due to its samll size and no other explanation "
   ]
  },
  {
   "cell_type": "code",
   "execution_count": 44,
   "id": "5f4e9394",
   "metadata": {},
   "outputs": [],
   "source": [
    "majority_value = data['FulfillmentOrderFlag'].mode()[0]\n",
    "data['FulfillmentOrderFlag'].fillna(majority_value, inplace=True)"
   ]
  },
  {
   "cell_type": "markdown",
   "id": "d1f1cd1e",
   "metadata": {},
   "source": [
    "for NextDayFees , we will fill the null values with the median to avoid any disturpance in the dataset statstics "
   ]
  },
  {
   "cell_type": "code",
   "execution_count": 45,
   "id": "86d903eb",
   "metadata": {},
   "outputs": [],
   "source": [
    "data['NextDayFees'] = data['NextDayFees'].fillna(data['NextDayFees'].median())"
   ]
  },
  {
   "cell_type": "code",
   "execution_count": 46,
   "id": "5e513c0d",
   "metadata": {},
   "outputs": [
    {
     "data": {
      "text/html": [
       "<div>\n",
       "<style scoped>\n",
       "    .dataframe tbody tr th:only-of-type {\n",
       "        vertical-align: middle;\n",
       "    }\n",
       "\n",
       "    .dataframe tbody tr th {\n",
       "        vertical-align: top;\n",
       "    }\n",
       "\n",
       "    .dataframe thead th {\n",
       "        text-align: right;\n",
       "    }\n",
       "</style>\n",
       "<table border=\"1\" class=\"dataframe\">\n",
       "  <thead>\n",
       "    <tr style=\"text-align: right;\">\n",
       "      <th></th>\n",
       "      <th>Revenue</th>\n",
       "      <th>FulfillmentOrderFlag</th>\n",
       "      <th>NextDayFees</th>\n",
       "      <th>createdAt</th>\n",
       "    </tr>\n",
       "  </thead>\n",
       "  <tbody>\n",
       "    <tr>\n",
       "      <th>count</th>\n",
       "      <td>500000.000000</td>\n",
       "      <td>500000.000000</td>\n",
       "      <td>500000.000000</td>\n",
       "      <td>500000</td>\n",
       "    </tr>\n",
       "    <tr>\n",
       "      <th>mean</th>\n",
       "      <td>32.358458</td>\n",
       "      <td>0.002688</td>\n",
       "      <td>4.786247</td>\n",
       "      <td>2022-12-01 12:05:46.211088128</td>\n",
       "    </tr>\n",
       "    <tr>\n",
       "      <th>min</th>\n",
       "      <td>0.000000</td>\n",
       "      <td>0.000000</td>\n",
       "      <td>0.000000</td>\n",
       "      <td>2022-10-01 00:01:07</td>\n",
       "    </tr>\n",
       "    <tr>\n",
       "      <th>25%</th>\n",
       "      <td>24.000000</td>\n",
       "      <td>0.000000</td>\n",
       "      <td>5.000000</td>\n",
       "      <td>2022-11-02 12:50:22.249999872</td>\n",
       "    </tr>\n",
       "    <tr>\n",
       "      <th>50%</th>\n",
       "      <td>30.000000</td>\n",
       "      <td>0.000000</td>\n",
       "      <td>5.000000</td>\n",
       "      <td>2022-11-30 01:01:34</td>\n",
       "    </tr>\n",
       "    <tr>\n",
       "      <th>75%</th>\n",
       "      <td>39.000000</td>\n",
       "      <td>0.000000</td>\n",
       "      <td>5.000000</td>\n",
       "      <td>2022-12-31 13:03:29</td>\n",
       "    </tr>\n",
       "    <tr>\n",
       "      <th>max</th>\n",
       "      <td>541.400024</td>\n",
       "      <td>1.000000</td>\n",
       "      <td>238.500000</td>\n",
       "      <td>2023-01-31 23:58:23</td>\n",
       "    </tr>\n",
       "    <tr>\n",
       "      <th>std</th>\n",
       "      <td>15.412783</td>\n",
       "      <td>0.051776</td>\n",
       "      <td>3.281413</td>\n",
       "      <td>NaN</td>\n",
       "    </tr>\n",
       "  </tbody>\n",
       "</table>\n",
       "</div>"
      ],
      "text/plain": [
       "             Revenue  FulfillmentOrderFlag    NextDayFees  \\\n",
       "count  500000.000000         500000.000000  500000.000000   \n",
       "mean       32.358458              0.002688       4.786247   \n",
       "min         0.000000              0.000000       0.000000   \n",
       "25%        24.000000              0.000000       5.000000   \n",
       "50%        30.000000              0.000000       5.000000   \n",
       "75%        39.000000              0.000000       5.000000   \n",
       "max       541.400024              1.000000     238.500000   \n",
       "std        15.412783              0.051776       3.281413   \n",
       "\n",
       "                           createdAt  \n",
       "count                         500000  \n",
       "mean   2022-12-01 12:05:46.211088128  \n",
       "min              2022-10-01 00:01:07  \n",
       "25%    2022-11-02 12:50:22.249999872  \n",
       "50%              2022-11-30 01:01:34  \n",
       "75%              2022-12-31 13:03:29  \n",
       "max              2023-01-31 23:58:23  \n",
       "std                              NaN  "
      ]
     },
     "execution_count": 46,
     "metadata": {},
     "output_type": "execute_result"
    }
   ],
   "source": [
    "data.describe()"
   ]
  },
  {
   "cell_type": "markdown",
   "id": "8eddef02",
   "metadata": {},
   "source": [
    "the last 3 columns'  missing information is valuable itself, and to impute it with the most common class won’t be appropriate. In such a case, we will  replace them with a value like “Unknown”"
   ]
  },
  {
   "cell_type": "code",
   "execution_count": 47,
   "id": "bec99f88",
   "metadata": {
    "scrolled": true
   },
   "outputs": [
    {
     "name": "stdout",
     "output_type": "stream",
     "text": [
      "<class 'pandas.core.frame.DataFrame'>\n",
      "RangeIndex: 500000 entries, 0 to 499999\n",
      "Data columns (total 13 columns):\n",
      " #   Column                Non-Null Count   Dtype         \n",
      "---  ------                --------------   -----         \n",
      " 0   OrderNumber           500000 non-null  object        \n",
      " 1   MerchantId            500000 non-null  object        \n",
      " 2   Type                  500000 non-null  object        \n",
      " 3   CityName              500000 non-null  object        \n",
      " 4   Status                500000 non-null  object        \n",
      " 5   Revenue               500000 non-null  float64       \n",
      " 6   CreationSource        500000 non-null  object        \n",
      " 7   FulfillmentOrderFlag  500000 non-null  float64       \n",
      " 8   NextDayFees           500000 non-null  float64       \n",
      " 9   createdAt             500000 non-null  datetime64[ns]\n",
      " 10  AssignedHub           500000 non-null  object        \n",
      " 11  DriverId              500000 non-null  object        \n",
      " 12  RouteId               500000 non-null  object        \n",
      "dtypes: datetime64[ns](1), float64(3), object(9)\n",
      "memory usage: 49.6+ MB\n"
     ]
    }
   ],
   "source": [
    "AssignedHub_clean = data[\"AssignedHub\"].fillna(\"Unknown\", inplace=True)\n",
    "Driver_clean = data[\"DriverId\"].fillna(\"Unknown\", inplace=True)\n",
    "Route_clean = data[\"RouteId\"].fillna(\"Unknown\", inplace=True)\n",
    "data.info()"
   ]
  },
  {
   "cell_type": "markdown",
   "id": "e9ee7fb4",
   "metadata": {},
   "source": [
    "Save to an Excel file "
   ]
  },
  {
   "cell_type": "code",
   "execution_count": 24,
   "id": "b29b05e3",
   "metadata": {},
   "outputs": [],
   "source": [
    "data.to_excel('Case_Study.xlsx', index=False)\n"
   ]
  }
 ],
 "metadata": {
  "kernelspec": {
   "display_name": "Python 3 (ipykernel)",
   "language": "python",
   "name": "python3"
  },
  "language_info": {
   "codemirror_mode": {
    "name": "ipython",
    "version": 3
   },
   "file_extension": ".py",
   "mimetype": "text/x-python",
   "name": "python",
   "nbconvert_exporter": "python",
   "pygments_lexer": "ipython3",
   "version": "3.11.5"
  }
 },
 "nbformat": 4,
 "nbformat_minor": 5
}
